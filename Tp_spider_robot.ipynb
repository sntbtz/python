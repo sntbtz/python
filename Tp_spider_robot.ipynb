{
 "cells": [
  {
   "cell_type": "markdown",
   "metadata": {},
   "source": [
    "# Projet: Création d'un Spider Robot "
   ]
  },
  {
   "cell_type": "markdown",
   "metadata": {},
   "source": [
    "## A/  Préparation de la fonction spiderlog"
   ]
  },
  {
   "cell_type": "markdown",
   "metadata": {},
   "source": [
    "#### Soit le texte ci-dessous:\n",
    "Il convient d’expliquer avant tout que le Web n’est pas l’Internet, que le Web surfacique n’est pas le Deep Web et encore moins le Dark Web qui est annoncé comme 500 fois plus grand que le web surfacique. Tout se pratiquerait pourtant aujourd’hui chez nos jeunes dans un seul monde, celui d’Internet, des réseaux sociaux et des applications qu’ils considèrent pour la plupart comme la vraie vie, celle collant à leur époque. Les jeunes, s’ils maîtrisent pour la plupart les applications du Web surfacique (Google, Wikipédia, …) tant sur Internet que sur leurs smartphones, n’ont pas forcément la culture du web des profondeurs et n’en mesurent pas non plus les impacts sur leur vie réelle et leur identité à venir."
   ]
  },
  {
   "cell_type": "markdown",
   "metadata": {},
   "source": [
    "### 1) Déclarer une variable mon_texte contenant le texte ci dessus [aide    variable = \"le texte\"]"
   ]
  },
  {
   "cell_type": "code",
   "execution_count": null,
   "metadata": {},
   "outputs": [],
   "source": [
    "mon_texte = "
   ]
  },
  {
   "cell_type": "markdown",
   "metadata": {},
   "source": [
    "### 2) Convertir le texte en une liste de mot nommé \"malistedemot\"  et l'afficher [aide     texte.split()    ]"
   ]
  },
  {
   "cell_type": "code",
   "execution_count": null,
   "metadata": {},
   "outputs": [],
   "source": []
  },
  {
   "cell_type": "markdown",
   "metadata": {},
   "source": [
    "### 3) Créer une liste nommée 'malistedepetitmot' contenant tous les mots de 1 ou 2 caractères"
   ]
  },
  {
   "cell_type": "raw",
   "metadata": {},
   "source": [
    "Pour cela créer une boucle for qui va passer en revue chaque membre de la liste maliste de mot et à chaque tour analyser la longeur du mot, si il est inférieur à 3 alors ajouter ce mot à la nouvelle liste nommée \"malistedepetitmot\"\n",
    "aide   \n",
    "for i in maliste:\n",
    "    if [comparateur]:\n",
    "        action"
   ]
  },
  {
   "cell_type": "code",
   "execution_count": null,
   "metadata": {},
   "outputs": [],
   "source": []
  },
  {
   "cell_type": "markdown",
   "metadata": {},
   "source": [
    "### 4)Supprimer de 'malistedemot' tous les mots de 1 ou 2 caractères"
   ]
  },
  {
   "cell_type": "code",
   "execution_count": null,
   "metadata": {},
   "outputs": [],
   "source": [
    "# élimination de la liste de tous les éléments contenus dans la liste 'listepetitmot'\n",
    "for i in malistedepetitmot:\n",
    "    while i in malistedemot:\n",
    "        malistedemot.remove(i)\n",
    "      \n",
    "print(malistedemot)"
   ]
  },
  {
   "cell_type": "markdown",
   "metadata": {},
   "source": [
    "### 5) Supprimer de la liste tous les pronoms , prépositions et adverbes"
   ]
  },
  {
   "cell_type": "code",
   "execution_count": null,
   "metadata": {},
   "outputs": [],
   "source": [
    "# liste de pronoms, prépositions et adverbes\n",
    "listepronomprepositionadverbe = ['ont','son','une','un','est','non','comme', 'pour','plus','tant','pas','sur','en', 'de', 'des','si', 'ou','un', 'par','qui', 'se', 'te', 'lequel', 'celles', 'celui', 'sien', 'tien', 'me', 'soi', 'je', \"l'\", 'tu', 'nôtres', 'que', 'sienne', 'nôtre', 'auxquels', 'tiens', 'vôtre', 'les', 'desquelles', \"j'\", 'elles', \"s'\", 'lesquels', 'toi', 'tienne', 'quoi', 'eux', 'ceux', 'ça', 'desquels', 'elle', 'et', 'duquel', 'lesquelles', 'vous', 'mienne', 'cela', 'ceci', 'siennes', 'tiennes', \"t'\", 'ce', 'miennes', 'auquel', 'mien', 'leur', 'celle', 'ils', 'la', 'laquelle', 'miens', 'siens', 'nous', 'auxquelles', 'il', 'on', 'moi', 'vôtres', 'le', 'lui', 'leurs', \"m'\"]\n",
    "# Créer une programme permettant de supprimer de malsitedemot les mots inutiles\n",
    "      \n",
    "print(malistedemot)\n"
   ]
  },
  {
   "cell_type": "markdown",
   "metadata": {},
   "source": [
    "### 6) Certains mots de 'malistedemot' contiennent des apostrophes ', des virgules et des parenthèses ( ou ) en début ou en fin de mot, imaginer un programme permettant d'enlever ces caractères pour purifier malistedemo\n"
   ]
  },
  {
   "cell_type": "raw",
   "metadata": {},
   "source": [
    "aide:\n",
    "on peut analyser la première lettre d'un mot en désignant la position des la lettre entre crochet\n",
    "    ex: \"lemot\"[1] désigne la lettre e\n",
    "on peut modifier un élement dans une lsite en utilsant sa position dans la liste\n",
    "maliste = ['surf', 'football', 'golf']\n",
    "malite[1] = ['tennis']\n",
    "print(maliste)\n",
    "\n",
    "résultats: ['surf', 'tennis', 'golf']\n",
    "on peut modifier un la valeur d'une chaine de caractère\n",
    "i = 'd'expliquer'\n",
    "print(i[2:])\n",
    "résultat: 'expliquer'"
   ]
  },
  {
   "cell_type": "code",
   "execution_count": null,
   "metadata": {},
   "outputs": [],
   "source": []
  },
  {
   "cell_type": "markdown",
   "metadata": {},
   "source": [
    "### 7) Supprimer les doublons grâce à la convertion de la liste en 'set' (collection d'objets uniques)"
   ]
  },
  {
   "cell_type": "code",
   "execution_count": null,
   "metadata": {},
   "outputs": [],
   "source": [
    "malistedemot = list(set(malistedemot))\n",
    "print(malistedemot)"
   ]
  },
  {
   "cell_type": "markdown",
   "metadata": {},
   "source": [
    "### 8)  Compter le nombre fois qu'apparait chaque mot de la liste \"malistedemot\"  dans le texte et afficher le mot et son score est supérieur à 4"
   ]
  },
  {
   "cell_type": "raw",
   "metadata": {},
   "source": [
    "aide: texte.count('golf')"
   ]
  },
  {
   "cell_type": "code",
   "execution_count": null,
   "metadata": {},
   "outputs": [],
   "source": [
    "   \n",
    "    "
   ]
  },
  {
   "cell_type": "markdown",
   "metadata": {},
   "source": [
    "###  9) Créer une fonction nommé spiderlog regroupant tous les traitements effectués"
   ]
  },
  {
   "cell_type": "raw",
   "metadata": {},
   "source": [
    "Vous pouvez apporter des modifications pour purifier l'analyse de vos mots (exemple: gestion des majuscules,...)"
   ]
  },
  {
   "cell_type": "raw",
   "metadata": {},
   "source": [
    "aide: La syntaxe Python pour la définition d’une fonction est la suivante :\n",
    "\n",
    "def nom_fonction(liste de paramètres):\n",
    "      bloc d'instructions\n",
    "\n",
    "exemple:\n",
    "def spiderlog(mon_texte):\n",
    "    ......\n",
    "    ......\n",
    "    "
   ]
  },
  {
   "cell_type": "code",
   "execution_count": null,
   "metadata": {},
   "outputs": [],
   "source": [
    "def spiderlog(mon_texte,nb):\n",
    "    "
   ]
  },
  {
   "cell_type": "markdown",
   "metadata": {},
   "source": [
    "## B/ Application du spider robot sur une page internet"
   ]
  },
  {
   "cell_type": "markdown",
   "metadata": {},
   "source": [
    "### 1) Récupérer le code html d'une page web"
   ]
  },
  {
   "cell_type": "raw",
   "metadata": {},
   "source": [
    "On utilise la bibliothèque requests pour faire une requête sur internet\n",
    "\n",
    "import requests\n",
    "url = \"http://ici l'adrese de votre site\"\n",
    "capture=requests.get(url)\n",
    "textcapture=capture.text\n"
   ]
  },
  {
   "cell_type": "code",
   "execution_count": null,
   "metadata": {},
   "outputs": [],
   "source": [
    "import requests\n",
    "# url contient l'adresse du site à analyser\n",
    "url = 'https://fr.wikipedia.org/wiki/Golf'\n",
    "# ccapture du code html de la page a analyser\n",
    "capture = requests.get(url)\n",
    "print(capture.text)"
   ]
  },
  {
   "cell_type": "raw",
   "metadata": {},
   "source": [
    "Vous remarquez que le langage avec des balises gène l'analyse du contenu de la page. \n",
    "Une fonction d'analyse des pages html est nécessaire. Il s'agit ici de la bibliothèque BeautifulSoup."
   ]
  },
  {
   "cell_type": "markdown",
   "metadata": {},
   "source": [
    "## 2) Traitement du contenu d'un site avec BeautifulSoup"
   ]
  },
  {
   "cell_type": "code",
   "execution_count": null,
   "metadata": {},
   "outputs": [],
   "source": [
    "import requests\n",
    "from bs4 import BeautifulSoup\n",
    "# url contient l'adresse du site à analyser\n",
    "url = 'https://fr.wikipedia.org/wiki/surf'\n",
    "# capture du code html de la page a analyser\n",
    "capture = requests.get(url)\n",
    "html_page = capture.content\n",
    "# traitement du code html pour qu'il ne conserve que le texte de la page en excluant le code des sections \n",
    "soup = BeautifulSoup(html_page, 'html.parser')\n",
    "text = soup.find_all(text=True)\n",
    "\n",
    "page_a_analyser = ''\n",
    "blacklist = ['[document]','noscript','header','html','meta','head', 'input','script','style']\n",
    "for t in text:\n",
    "    if t.parent.name not in blacklist:\n",
    "        page_a_analyser += '{} '.format(t)\n",
    "\n",
    "print(page_a_analyser)"
   ]
  },
  {
   "cell_type": "markdown",
   "metadata": {},
   "source": [
    "## 3) Test de Spiderlog sur un site "
   ]
  },
  {
   "cell_type": "code",
   "execution_count": null,
   "metadata": {},
   "outputs": [],
   "source": [
    "spiderlog(page_a_analyser,50)"
   ]
  },
  {
   "cell_type": "markdown",
   "metadata": {},
   "source": [
    "## 4) Limite du système, la fraude au référencement"
   ]
  },
  {
   "cell_type": "raw",
   "metadata": {},
   "source": [
    "\n",
    "Tester le spider robot sur les sites http://entbtz.fr/spiderlog/exemple1.html et http://entbtz.fr/spiderlog/exemple2.html\n",
    "Comparez les résultats obtenus. Quel site est à prvilégier pour parler du surf?\n",
    "Afficher les deux pages dans un navigateur et rechercher l'origine de la fraude."
   ]
  },
  {
   "cell_type": "code",
   "execution_count": null,
   "metadata": {},
   "outputs": [],
   "source": []
  }
 ],
 "metadata": {
  "kernelspec": {
   "display_name": "Python 3",
   "language": "python",
   "name": "python3"
  },
  "language_info": {
   "codemirror_mode": {
    "name": "ipython",
    "version": 3
   },
   "file_extension": ".py",
   "mimetype": "text/x-python",
   "name": "python",
   "nbconvert_exporter": "python",
   "pygments_lexer": "ipython3",
   "version": "3.7.6"
  }
 },
 "nbformat": 4,
 "nbformat_minor": 2
}
