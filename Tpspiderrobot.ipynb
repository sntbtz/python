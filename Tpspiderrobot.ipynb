{
 "cells": [
  {
   "cell_type": "markdown",
   "metadata": {},
   "source": [
    "### Réaliser un \"spider robot\" permettant de collecter les informations pour un moteur de recherche nécessite de collecter des informations dans des chaines de caractères. L'objectif sera des collecter les mots les plus représentés dans un texte et de donner le nombre fois où ils appraissent ."
   ]
  },
  {
   "cell_type": "markdown",
   "metadata": {},
   "source": [
    "### A/ Prérequis_Modifier des chaines de caractères"
   ]
  },
  {
   "cell_type": "markdown",
   "metadata": {},
   "source": [
    "#ceci est un commentaire, il permet d'insérer dans le code des explications, sans perturber son focntionnement. Il commence par #"
   ]
  },
  {
   "cell_type": "code",
   "execution_count": null,
   "metadata": {},
   "outputs": [],
   "source": [
    "# déclaration d'une variable montexte\n",
    "montexte = \"le contenu de la page web n'est pas très long. Ce contenu dans la page WEB parle de l'ARTICLE (Google) Web .\""
   ]
  },
  {
   "cell_type": "code",
   "execution_count": null,
   "metadata": {},
   "outputs": [],
   "source": [
    "# print permet d'afficher le contenu d'un élément, ici la variable montexte\n",
    "#si on ne met pas print on voit apparaitre dans [out] la valeur de la dernière sortie\n",
    "print(montexte)\n",
    "# la fonction - len - permet de connaitre la taille d'un élement, \n",
    "# ici le nombre de caractères contenus dans la chaine de caractères \"le contenu de la page web n'est pas très long. Ce contenu dans la page WEB parle de l'ARTICLE (Google) Web .\"\n",
    "print(len(montexte))"
   ]
  },
  {
   "cell_type": "code",
   "execution_count": null,
   "metadata": {},
   "outputs": [],
   "source": [
    "#La fonction - .find(\"mots\") permet de trouver la position nommée index d'une sous-chaine de caractère ici \"WEB parle\"\n",
    "montexte.find(\"WEB parle\")"
   ]
  },
  {
   "cell_type": "code",
   "execution_count": null,
   "metadata": {},
   "outputs": [],
   "source": [
    "# on utilise des index noté entre crochets[] pour analyser certains parties du contenu de la variable \n",
    "# ici le 10ème caractère car le premier c'est 0\n",
    "montexte[9]"
   ]
  },
  {
   "cell_type": "code",
   "execution_count": null,
   "metadata": {},
   "outputs": [],
   "source": [
    "# ici les caractères d'index 3 à 9 on remarque que le début est inclusif et la fin est exclusive donc un caractère de plus\n",
    "montexte[3:10]"
   ]
  },
  {
   "cell_type": "code",
   "execution_count": null,
   "metadata": {},
   "outputs": [],
   "source": [
    "# ici les 10 premiers caractères\n",
    "montexte[:10]"
   ]
  },
  {
   "cell_type": "code",
   "execution_count": null,
   "metadata": {},
   "outputs": [],
   "source": [
    "# ici le 10 derniers caractères (deux façons de faire)\n",
    "print(montexte[94:])\n",
    "print(montexte[-10:])"
   ]
  },
  {
   "cell_type": "markdown",
   "metadata": {},
   "source": [
    "Activité 1"
   ]
  },
  {
   "cell_type": "code",
   "execution_count": null,
   "metadata": {},
   "outputs": [],
   "source": [
    "#activité 1: faire apparaitre en utilisant la lettre \"W\"\n",
    "#(astuce utiliser d'abord la fonction .find pour repérer la position de la lettre recherchée.)\n",
    "\n",
    "#ici taper votre code\n",
    "\n",
    "\n"
   ]
  },
  {
   "cell_type": "markdown",
   "metadata": {},
   "source": [
    "Activité 2"
   ]
  },
  {
   "cell_type": "code",
   "execution_count": null,
   "metadata": {},
   "outputs": [],
   "source": [
    "#activité 2: faire apparaitre en utilisant le point final \".\"\n",
    "#(astuce utiliser d'abord utiliser un index négatif\n",
    "\n",
    "#ici taper votre code\n",
    "\n"
   ]
  },
  {
   "cell_type": "markdown",
   "metadata": {},
   "source": [
    "Activité 3"
   ]
  },
  {
   "cell_type": "code",
   "execution_count": null,
   "metadata": {},
   "outputs": [],
   "source": [
    "#activité 3: faire apparaitre en utilisant la fonction précédente le mot \"ARTICLE\"\n",
    "\n",
    "#ici taper votre code\n",
    "\n",
    "\n"
   ]
  },
  {
   "cell_type": "markdown",
   "metadata": {},
   "source": [
    "Activité 4"
   ]
  },
  {
   "cell_type": "code",
   "execution_count": null,
   "metadata": {},
   "outputs": [],
   "source": [
    "#activité 4: faire apparaitre en utilisant la fonction précédente la deuxième phrase\n",
    "\n",
    "#ici taper votre code\n",
    "\n",
    "#la deuxième phrase commence par Ce contenu. On va donc dans un premier temps le repérer et ensuite programmer l'affichage\n",
    "\n"
   ]
  },
  {
   "cell_type": "markdown",
   "metadata": {},
   "source": [
    "### B/ Rechercher la présence d'un mot dans un texte"
   ]
  },
  {
   "cell_type": "code",
   "execution_count": null,
   "metadata": {},
   "outputs": [],
   "source": [
    "# la fonction in permet de chercher si oui ou non un élément est dans un autre\n",
    "# ici  on cherche sur la chaine de caractère \"Web\" est dans le contenu de la variable montexte\n",
    "\"web\" in montexte"
   ]
  },
  {
   "cell_type": "markdown",
   "metadata": {},
   "source": [
    "Activité 5"
   ]
  },
  {
   "cell_type": "code",
   "execution_count": null,
   "metadata": {},
   "outputs": [],
   "source": [
    "#activité 5: Teste si les mots \"page\" sont dans le contenu de la variable montexte\n",
    "\n",
    "#ici taper votre code\n",
    "\n"
   ]
  },
  {
   "cell_type": "markdown",
   "metadata": {},
   "source": [
    "Activité 6"
   ]
  },
  {
   "cell_type": "code",
   "execution_count": null,
   "metadata": {},
   "outputs": [],
   "source": [
    "#activité 6: Teste si les mots  \"SNT\" sont dans le contenu de la variable montexte\n",
    "\n",
    "#ici taper votre code\n",
    "\n"
   ]
  },
  {
   "cell_type": "markdown",
   "metadata": {},
   "source": [
    "### C/ Compter le nombre de fois qu'un mot est dans un texte"
   ]
  },
  {
   "cell_type": "code",
   "execution_count": null,
   "metadata": {},
   "outputs": [],
   "source": [
    "# on peut compter la liste de mots dans un texte avec la fonction .count('mot_à_chercher')\n",
    "montexte.count('web')"
   ]
  },
  {
   "cell_type": "code",
   "execution_count": null,
   "metadata": {},
   "outputs": [],
   "source": [
    "# Le caractère \"W\" n'est pas égal à \"w\", il n'est pas codé de la même façon, \n",
    "#voilà pourquoi il semble intéressant de mettre le texte analysé en minuscule.\n",
    "# La fonction .lower() permet de mettre tout le texte en minuscule\n",
    "montexte = montexte.lower()\n",
    "print(montexte)"
   ]
  },
  {
   "cell_type": "markdown",
   "metadata": {},
   "source": [
    "Activité 7"
   ]
  },
  {
   "cell_type": "code",
   "execution_count": null,
   "metadata": {},
   "outputs": [],
   "source": [
    "#activité 7: Rechercher à nouveau combien de fois le mot 'web' est présent dans la variable montexte\n",
    "\n",
    "#ici taper votre code\n",
    "\n",
    "\n",
    "\n"
   ]
  },
  {
   "cell_type": "markdown",
   "metadata": {},
   "source": [
    "### D/ Création d'une liste des mots contenus dans le texte"
   ]
  },
  {
   "cell_type": "code",
   "execution_count": null,
   "metadata": {
    "scrolled": true
   },
   "outputs": [],
   "source": [
    "# un programme ne connait pas la signification d'un mot, \n",
    "#on peut le définir approximativement par une suite de caractère entre deux espaces\n",
    "#il faudra ensuite épurer cette approximation.\n",
    "\n",
    "# ici on va créer une liste nommée malistedemot contenant la suite de chaines de caractères séparés par des espaces\n",
    "# grâce à la fonction .split()\n",
    "malistedemot = montexte.split()\n",
    "print(malistedemot)"
   ]
  },
  {
   "cell_type": "markdown",
   "metadata": {},
   "source": [
    "Activité 8: observer la liste obtenue et écrire l'index des mots à corriger présentant des \" ' \", ' . ' ou des \" ( \" . On comprends que cette activité doit être automatisé."
   ]
  },
  {
   "cell_type": "raw",
   "metadata": {},
   "source": [
    "taper ici les index des mots à corriger\n",
    "\n"
   ]
  },
  {
   "cell_type": "markdown",
   "metadata": {},
   "source": [
    "### E/ Suppression des petis mots de taille inférieure à 3 caractères"
   ]
  },
  {
   "cell_type": "markdown",
   "metadata": {},
   "source": [
    "Certains mots constitués seulement d'un ou deux caractères ne sont pas intéressants à analyser."
   ]
  },
  {
   "cell_type": "code",
   "execution_count": null,
   "metadata": {},
   "outputs": [],
   "source": [
    "#Ce script est un exemple de code permettant de supprimer tous ces petits mots\n",
    "\n",
    "#exemple modification de liste de mot qu'il faudra adapté à notre problème par la suite\n",
    "liste1=['il','le','elle','lui','.','la','le']\n",
    "#on commence par créer une copie de la liste à purifier\n",
    "listecopie = list(liste1)\n",
    "# pour chaque élément de la liste listecopie\n",
    "for i in listecopie:\n",
    "    #si la longeur de l'élément est supérieur à 3\n",
    "    if len(i)<3:\n",
    "        #tant que cet élément i est dans la liste malistedemot enlève le\n",
    "        while i in liste1:\n",
    "            liste1.remove(i)\n",
    "            \n",
    "#imprime le résultat\n",
    "\n",
    "print(liste1)\n"
   ]
  },
  {
   "cell_type": "markdown",
   "metadata": {},
   "source": [
    "Activité 9"
   ]
  },
  {
   "cell_type": "code",
   "execution_count": null,
   "metadata": {},
   "outputs": [],
   "source": [
    "#Activité 9: Applique le code vu au dessus, à la liste précédemment construite appelée malistedemot\n",
    "\n",
    "#ici taper votre code\n",
    "\n",
    "\n",
    "\n",
    "\n",
    "\n",
    "\n",
    "\n",
    "\n",
    "\n"
   ]
  },
  {
   "cell_type": "markdown",
   "metadata": {},
   "source": [
    "### F/ Purification des mots contenus dans la liste"
   ]
  },
  {
   "cell_type": "markdown",
   "metadata": {},
   "source": [
    "Le découpage imprécis entraîne la création de mot contenant des ', ou étant liés àdes caractères tels ques des points, des virgules, de guillemets, des crochets etc... On peut donc réaliser un programme qui va supprimer ces caractères des mots"
   ]
  },
  {
   "cell_type": "code",
   "execution_count": null,
   "metadata": {},
   "outputs": [],
   "source": [
    "# Le code ci dessous va supprimer les \"'\" et les \".\" contenus dans un mot\n",
    "\n",
    "#Exemple à comprendre qu'il faudra appliquer par la suite\n",
    "maliste2 = ['le','texte',\"n'est\",'pas','propre.','(google)'] \n",
    "# ici deux mots sont à nettoyer \"n'est\" et 'propre.', (on remarque que si le mot contient un ' alors il est encadré par des \"\n",
    "# ici le mot \"n'est\" en position index=2 est remplacé par \"est\", on enlève les deux premiers caractères\n",
    "maliste2[2]=maliste2[2][2:]\n",
    "print(maliste2)\n",
    "# ici le mot \"propre.\" en position index=4 doit être remplacé par \"propre\", on enlève le dernier caractère du mot.\n",
    "maliste2[4] = maliste2[4][:-1]\n",
    "print(maliste2)\n"
   ]
  },
  {
   "cell_type": "markdown",
   "metadata": {},
   "source": [
    "Activité 10"
   ]
  },
  {
   "cell_type": "code",
   "execution_count": null,
   "metadata": {},
   "outputs": [],
   "source": [
    "#activité 10: Recopier et compléter ce code du dessus pour qu'il enlève en plus les parenthèses ( et )\n",
    "#en début et/ou fin de chaque mot dans la liste malistedemot\n",
    "\n",
    "#ici taper votre code\n",
    "\n",
    "\n",
    "\n",
    "\n",
    "\n",
    "\n",
    "\n",
    "\n",
    "\n",
    "\n",
    "\n",
    "\n",
    "\n"
   ]
  },
  {
   "cell_type": "markdown",
   "metadata": {},
   "source": [
    "### G/ Elimination des mots qui n'ont pas un sens significatif pour caractériser un texte"
   ]
  },
  {
   "cell_type": "markdown",
   "metadata": {},
   "source": [
    "Certains mots comme les prépositions, les adverbes et autres n'indiquent pas une thématique, aussi est-il intéressant de les supprimer. On créer ici une liste des mots non intéressants qui pourra être complétée pour purifier encore votre liste de mots clés."
   ]
  },
  {
   "cell_type": "code",
   "execution_count": null,
   "metadata": {},
   "outputs": [],
   "source": [
    "#création d'une liste de mot non intéressant\n",
    "listedesmotsnoninteressants = ['dans','dessus','dessous','dedans','plus','moins','très','pas','mien','sien','tien','nôtre', 'vôtre', 'leur','miens', 'siens', 'tiens', 'nôtres',  'vôtres',  'leurs', 'mienne',  'sienne',  'tienne', 'miennes',  'siennes',  'tiennes', 'nôtres',  'vôtres',  'leurs','il', 'elle', 'on', 'le', 'la', 'lui', 'se','et', 'soi','je', 'me', 'moi','tu', 'te' , 'toi','vous','ils', 'elles', 'eux', 'les', \"j'\", \"m'\", \"t'\", \"s'\", \"l'\",'je', 'tu', 'il', 'elle',  'nous', 'vous', 'lequel', 'duquel', 'auquel','lesquels', 'desquels', 'auxquels','laquelle',  'laquelle', 'lesquelles', 'desquelles', 'auxquelles','qui', 'que', 'quoi', 'celui' ,'ceux' ,'ça', 'ce', 'ceci', 'cela', 'celle' ,'celles']\n",
    "\n",
    "# pour chaque mot de la liste des mots non intéressants\n",
    "for i in listedesmotsnoninteressants:\n",
    "    # i prend la valeur du premier puis du seconde élément... tant que le mot non interessant est dans la malistedemot enlève le\n",
    "    while i in malistedemot:\n",
    "        malistedemot.remove(i)\n",
    "      \n",
    "print(malistedemot)"
   ]
  },
  {
   "cell_type": "markdown",
   "metadata": {},
   "source": [
    "### I/ Comptage du nombre de fois qu'est réprésenté un mot de malistedemot dans le texte"
   ]
  },
  {
   "cell_type": "markdown",
   "metadata": {},
   "source": [
    "Pour chaque élément de la liste malistedemot, compte avec la fonction .count sa présence dans le texte montexte initial. On va donc se retrouver avec des couples de valeurs mot et valeur. On fabrique donc ici une base de données intégrant son descripteur, le nom et sa valeur, le nombre de fois: ces deux valeurs étant lié, on approche ici le concept de données structurées que nous aborderons au prochain chapitre"
   ]
  },
  {
   "cell_type": "code",
   "execution_count": null,
   "metadata": {},
   "outputs": [],
   "source": [
    "#exemple de script pour trouver un nombre de fois ou le mot \"web\" est représenté.\n",
    "montexte.count(\"web\")\n"
   ]
  },
  {
   "cell_type": "markdown",
   "metadata": {},
   "source": [
    "Activité 11"
   ]
  },
  {
   "cell_type": "markdown",
   "metadata": {},
   "source": [
    "On va donc passer en revus chaque élément de la liste malistedemot et compter le nombre de fois que ce mot est représenté, puis afficher ce couple de valeur: mot et nombre"
   ]
  },
  {
   "cell_type": "code",
   "execution_count": null,
   "metadata": {},
   "outputs": [],
   "source": [
    "#activité 1 Construire un programme permettant de remplir cet objectif\n",
    "\n",
    "# tape ici ton code\n",
    "\n",
    "\n",
    "\n",
    "\n"
   ]
  }
 ],
 "metadata": {
  "kernelspec": {
   "display_name": "Python 3",
   "language": "python",
   "name": "python3"
  },
  "language_info": {
   "codemirror_mode": {
    "name": "ipython",
    "version": 3
   },
   "file_extension": ".py",
   "mimetype": "text/x-python",
   "name": "python",
   "nbconvert_exporter": "python",
   "pygments_lexer": "ipython3",
   "version": "3.7.3"
  }
 },
 "nbformat": 4,
 "nbformat_minor": 2
}
