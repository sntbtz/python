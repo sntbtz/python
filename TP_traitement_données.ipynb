{
 "cells": [
  {
   "cell_type": "markdown",
   "metadata": {},
   "source": [
    "# Les données structurées et leur traitement"
   ]
  },
  {
   "cell_type": "markdown",
   "metadata": {},
   "source": [
    "### A/ Ouverture et lecture d'un fichier"
   ]
  },
  {
   "cell_type": "markdown",
   "metadata": {},
   "source": [
    "Le fichier 'europe.csv' contient la taille de la population et la superficie des pays européens"
   ]
  },
  {
   "cell_type": "markdown",
   "metadata": {},
   "source": [
    "- la fonction \"open\" permet de lire un fichier.\n"
   ]
  },
  {
   "cell_type": "code",
   "execution_count": null,
   "metadata": {},
   "outputs": [],
   "source": [
    "h = open(\"europe.csv\")"
   ]
  },
  {
   "cell_type": "markdown",
   "metadata": {},
   "source": [
    "- La fonction realdline permet de lire ligne après ligne l'ensemble du contenu du fichier étudié. Une seule lecture sera faite du document pour éviter de surcharger la mémoire. Ainsi si on actionne plusieurs fois la commande readline, on peut voir s'afficher successivement chaque ligne du document jusqu'à la fin du document."
   ]
  },
  {
   "cell_type": "code",
   "execution_count": null,
   "metadata": {},
   "outputs": [],
   "source": [
    "print(h.readline())"
   ]
  },
  {
   "cell_type": "markdown",
   "metadata": {},
   "source": [
    "- fermeture du fihcier en fin de traitement"
   ]
  },
  {
   "cell_type": "code",
   "execution_count": null,
   "metadata": {},
   "outputs": [],
   "source": [
    "#fermeture du fichier pour libérer la mémoire\n",
    "h.close() "
   ]
  },
  {
   "cell_type": "markdown",
   "metadata": {},
   "source": [
    "### B/ Effectuer un traitement sur des données."
   ]
  },
  {
   "cell_type": "code",
   "execution_count": null,
   "metadata": {},
   "outputs": [],
   "source": [
    "# ouverture du fichier europe.csv et mise de son contenu dans la variable f\n",
    "f = open(\"europe.csv\")\n",
    "# la fonction readline lit les lignes les unes après les autres\n",
    "# lecture de la première ligne qui correspond aux entêtes\n",
    "entete = f.readline()\n",
    "#déclaration de la variable popEurope\n",
    "popEurope = 0\n",
    "# lecture de la ligne suivante et affectation à la variable ligne\n",
    "ligne = f.readline()\n",
    "# boucle non bornée tant que la valeur de la ligne sera différente de \"\".\n",
    "while ligne != \"\":\n",
    "    # on découpe la ligne au niveau des ; et on affecte les 3 parties formées \n",
    "    # respectivement aux variables nom, pop et sup\n",
    "    nom,pop,sup = ligne.split(\";\")\n",
    "    # on ajoute à la variable popEurope la valeur de pop pour la ligne traitée\n",
    "    popEurope = popEurope + int(pop)\n",
    "    # lecture de la ligne suivante et affectation à la variable ligne\n",
    "    ligne = f.readline()\n",
    "   \n",
    "# Affichage du résultat    \n",
    "print(\"Population totale :\", popEurope, \" personnes.\")\n",
    "#fermeture du fichier pour libérer la mémoire\n",
    "f.close() "
   ]
  },
  {
   "cell_type": "markdown",
   "metadata": {},
   "source": [
    "### Exercice d'application: \n",
    "Réaliser un programme permettant de calculer à partir des données contenu dans le fichier europe.csv la superficie de l'europe."
   ]
  },
  {
   "cell_type": "code",
   "execution_count": null,
   "metadata": {},
   "outputs": [],
   "source": [
    "# taper votre code ici:\n",
    "\n"
   ]
  },
  {
   "cell_type": "markdown",
   "metadata": {},
   "source": [
    "### C/ Créer un fichier csv"
   ]
  },
  {
   "cell_type": "markdown",
   "metadata": {},
   "source": [
    "On utilise pour créer un fichier la fonction open en mode 'w' pour écriture (write)"
   ]
  },
  {
   "cell_type": "code",
   "execution_count": null,
   "metadata": {},
   "outputs": [],
   "source": [
    "# ouverture (ou création si le fichier n'existe pas) dufichier monfichier.csv\n",
    "h = open(\"monfichier.csv\",'w')"
   ]
  },
  {
   "cell_type": "markdown",
   "metadata": {},
   "source": [
    "Chaque ligne contenu dans un fichier csv est un texte séparant chaque élément par un point-virgule \";\" créer un fichier csv consiste donc à créer ces lignes textes et à les ajouter une par une grâce à la fonction write. Cette fonction ajoute une ligne au texte  existant."
   ]
  },
  {
   "cell_type": "markdown",
   "metadata": {},
   "source": [
    "- intégration d'une ligne de données à partir d'une variable"
   ]
  },
  {
   "cell_type": "code",
   "execution_count": null,
   "metadata": {},
   "outputs": [],
   "source": [
    "# ouverture (ou création si le fichier n'existe pas) dufichier monfichier.csv\n",
    "h = open(\"monfichier.csv\",'w')\n",
    "# déclaration d'une variable texte à intégrer\n",
    "mapremièreligne = \"'nom';'prénom';'âge2'\"\n",
    "# écriture dans le fichier csv d'une ligne supplémentaire ici l'entête du fichier csv\n",
    "h.write(mapremièreligne)\n",
    "# fermeture du fichier csv\n",
    "h.close()"
   ]
  },
  {
   "cell_type": "markdown",
   "metadata": {},
   "source": [
    "#### Vérifier le contenu du fichier monfichier.csv en sélectionnant l'onglet Home, puis en sélection ce fichier + la touche 'view'"
   ]
  },
  {
   "cell_type": "markdown",
   "metadata": {},
   "source": [
    "- l'intégration de deux lignes simultanéments nécessite d'intégrer un saut de ligne \"\\n\" signifiant un saut de ligne dans une chaine de caractères."
   ]
  },
  {
   "cell_type": "code",
   "execution_count": null,
   "metadata": {},
   "outputs": [],
   "source": [
    "h = open(\"monfichier.csv\",'w')\n",
    "ligne1 = \"Bryan;Adan;55\"\n",
    "ligne2 = \"Clark;Ken;32\"\n",
    "donnees = (ligne1+\"\\n\"+ligne2)\n",
    "h.write(donnees)\n",
    "h.close()"
   ]
  },
  {
   "cell_type": "markdown",
   "metadata": {},
   "source": [
    "#### Vérifier le contenu du fichier monfichier.csv en sélectionnant l'onglet Home, puis en sélection ce fichier + la touche 'view'"
   ]
  },
  {
   "cell_type": "markdown",
   "metadata": {},
   "source": [
    "- intégration à partir d'une liste [ ] d'élements.\n",
    "Il faut extraire d'une liste chaque élément, les séparer par un séparateur pour constituer une chaine de caractères."
   ]
  },
  {
   "cell_type": "code",
   "execution_count": null,
   "metadata": {},
   "outputs": [],
   "source": [
    "#ouverture ou création du fichier\n",
    "h = open(\"monfichier.csv\",'w')\n",
    "#source à partir d'une liste\n",
    "maliste = ['Lindon','Paul','76']\n",
    "donnees = \";\".join(maliste)\n",
    "h.write(donnees)\n",
    "#fermeture du fichier\n",
    "h.close()"
   ]
  },
  {
   "cell_type": "markdown",
   "metadata": {},
   "source": [
    "#### Vérifier le contenu du fichier monfichier.csv en sélectionnant l'onglet Home, puis en sélection ce fichier + la touche 'view'"
   ]
  },
  {
   "cell_type": "markdown",
   "metadata": {},
   "source": [
    "- intégration à partir d'un tableau (liste de liste)\n",
    "L'ensemble des données seront récupérer sous forme d'un tableau ou chaque élément est une liste. Il faut récupérer chaque éléments du tableau, en séparant chaque élément par un saut de ligne grâce au code \"\\n\"."
   ]
  },
  {
   "cell_type": "code",
   "execution_count": null,
   "metadata": {},
   "outputs": [],
   "source": [
    "#définition d'une ligne d'entête\n",
    "entetes = ['nom','prénom','âge']\n",
    "#définition d'un tableau de valeurs\n",
    "valeurs = [\n",
    "     ['Steewar','John','25'],\n",
    "     ['Dupont','jean','16'],\n",
    "     ['Slater','Kelly','49']\n",
    "]\n",
    "# création ou ouverture du fichier 'monfichier.csv'\n",
    "f = open('monfichier.csv', 'w')\n",
    "#Ecriture de la première ligne au fichier suivi d'un saut de ligne\n",
    "ligneEntete = \";\".join(entetes) + \"\\n\"\n",
    "f.write(ligneEntete)\n",
    "# pour chaque valeur du tableau écriture des données dans le fichier\n",
    "for i in valeurs:\n",
    "     ligne = \";\".join(i) + \"\\n\"\n",
    "     f.write(ligne)\n",
    "#Fermeture du fichier\n",
    "f.close()"
   ]
  },
  {
   "cell_type": "markdown",
   "metadata": {},
   "source": [
    "#### Vérifier le contenu du fichier monfichier.csv en sélectionnant l'onglet Home, puis en sélection ce fichier + la touche 'view'"
   ]
  },
  {
   "cell_type": "markdown",
   "metadata": {},
   "source": [
    "### Exercice d'application: \n",
    "- 1/définir une fonction \"donnees_vers_csv\"permettant d'intégrer un tableau de données dans un fichier csv .\n",
    "- 2/Appliquer la fonction au tableau nommé \"data\" et enregistrer les valeurs dans un fichier nommé donnees.csv"
   ]
  },
  {
   "cell_type": "code",
   "execution_count": null,
   "metadata": {},
   "outputs": [],
   "source": [
    "# définition d'une fonction pour laquel ilfaut indiquer le tableau et le nom du fichier.csv\n",
    "def donnees_vers_csv(tableau,fichier_cible):\n",
    "    # Ici définir ta fonction qui utilisera les paramètres tableau et fichier_cible\n",
    "    \n",
    "    \n",
    "    "
   ]
  },
  {
   "cell_type": "code",
   "execution_count": null,
   "metadata": {},
   "outputs": [],
   "source": [
    "# Applique ici ta fonction sur le tableau data \n",
    "data = [['Nom','Prenom','Classe'],['AGUILERA','Lenny','2A'],['AUGAGNEUR','Arthur','2A'],['BARBE','Noémie','2A'],['BARRY','Marine','2A']]\n",
    "\n",
    "# ici tape ton code\n",
    "\n",
    "\n"
   ]
  },
  {
   "cell_type": "markdown",
   "metadata": {},
   "source": [
    "#### Vérifier le contenu du fichier monfichier.csv en sélectionnant l'onglet Home, puis en sélection ce fichier + la touche 'view'"
   ]
  }
 ],
 "metadata": {
  "kernelspec": {
   "display_name": "Python 3",
   "language": "python",
   "name": "python3"
  },
  "language_info": {
   "codemirror_mode": {
    "name": "ipython",
    "version": 3
   },
   "file_extension": ".py",
   "mimetype": "text/x-python",
   "name": "python",
   "nbconvert_exporter": "python",
   "pygments_lexer": "ipython3",
   "version": "3.7.3"
  }
 },
 "nbformat": 4,
 "nbformat_minor": 2
}
